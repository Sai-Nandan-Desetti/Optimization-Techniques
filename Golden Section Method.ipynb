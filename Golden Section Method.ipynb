{
 "cells": [
  {
   "cell_type": "code",
   "execution_count": 1,
   "metadata": {},
   "outputs": [],
   "source": [
    "import math\n",
    "\n",
    "rho = (3-math.sqrt(5))/2"
   ]
  },
  {
   "cell_type": "code",
   "execution_count": 2,
   "metadata": {},
   "outputs": [],
   "source": [
    "def no_of_iterations(initial_pt, end_pt, tolerance):\n",
    "    \n",
    "    return math.ceil(math.log(tolerance/(end_pt-initial_pt))/math.log(1-rho))"
   ]
  },
  {
   "cell_type": "code",
   "execution_count": 9,
   "metadata": {},
   "outputs": [],
   "source": [
    "#The Golden Section method...\n",
    "def golden_section_search(f, a0, b0, epsilon):\n",
    "    \n",
    "    a = []\n",
    "    b = []\n",
    "    a.append(a0)\n",
    "    b.append(b0)\n",
    "    print(\"a(0) = \", a[0])\n",
    "    print(\"b(0) = \", b[0])\n",
    "    print(\"\\n\")\n",
    "    \n",
    "    N = no_of_iterations(a[0], b[0], epsilon)\n",
    "    \n",
    "    a.append(a[0] + rho*(b[0]-a[0]))\n",
    "    b.append(a[0] + (1-rho)*(b[0]-a[0]))\n",
    "    \n",
    "    \n",
    "    l = a[0]\n",
    "    r = b[0]\n",
    "    i = 1\n",
    "    while i <= N:\n",
    "        \n",
    "        print(\"a({}) = {}\".format(i, a[i]))\n",
    "        print(\"b({}) = {}\".format(i, b[i]))\n",
    "        \n",
    "        f_a = f(a[i])\n",
    "        f_b = f(b[i])\n",
    "        \n",
    "        print(\"f(a({})) = {}\".format(i, f_a))\n",
    "        print(\"f(b({})) = {}\".format(i, f_b))\n",
    "        \n",
    "        print(\"Uncertainty interval: \")        \n",
    "        if f_a < f_b:\n",
    "            r = b[i]\n",
    "            print(\"[a({}), b({})] = [{}, {}]\".format(a.index(l), b.index(r), l, r))\n",
    "            b.append(a[i])\n",
    "            a.append(l + rho*(r-l))\n",
    "        \n",
    "        elif f_a >= f_b:\n",
    "            l = a[i]\n",
    "            print(\"[a({}), b({})] = [{}, {}]\".format(a.index(l), b.index(r), l, r))\n",
    "            a.append(b[i])\n",
    "            b.append(l + (1-rho)*(r-l))\n",
    "        \n",
    "        print(\"\\n\")\n",
    "        i+=1\n"
   ]
  },
  {
   "cell_type": "code",
   "execution_count": 10,
   "metadata": {},
   "outputs": [
    {
     "name": "stdout",
     "output_type": "stream",
     "text": [
      "a(0) =  0\n",
      "b(0) =  2\n",
      "\n",
      "\n",
      "a(1) = 0.7639320225002102\n",
      "b(1) = 1.2360679774997898\n",
      "f(a(1)) = -24.360679774997898\n",
      "f(b(1)) = -18.95816066493144\n",
      "Uncertainty interval: \n",
      "[a(0), b(1)] = [0, 1.2360679774997898]\n",
      "\n",
      "\n",
      "a(2) = 0.4721359549995794\n",
      "b(2) = 0.7639320225002102\n",
      "f(a(2)) = -21.098514489125982\n",
      "f(b(2)) = -24.360679774997898\n",
      "Uncertainty interval: \n",
      "[a(2), b(1)] = [0.4721359549995794, 1.2360679774997898]\n",
      "\n",
      "\n",
      "a(3) = 0.7639320225002102\n",
      "b(3) = 0.9442719099991589\n",
      "f(a(3)) = -24.360679774997898\n",
      "f(b(3)) = -23.592461852053887\n",
      "Uncertainty interval: \n",
      "[a(2), b(3)] = [0.4721359549995794, 0.9442719099991589]\n",
      "\n",
      "\n",
      "a(4) = 0.6524758424985279\n",
      "b(4) = 0.7639320225002102\n",
      "f(a(4)) = -23.83743531177222\n",
      "f(b(4)) = -24.360679774997898\n",
      "Uncertainty interval: \n",
      "[a(4), b(3)] = [0.6524758424985279, 0.9442719099991589]\n",
      "\n",
      "\n"
     ]
    }
   ],
   "source": [
    "#Eg. 7.1, Pg.No: 106\n",
    "def f(x):\n",
    "    return pow(x,4) - 14*pow(x,3) + 60*pow(x,2) - 70*x\n",
    "\n",
    "golden_section_search(f, a0=0, b0=2, epsilon=0.3)"
   ]
  },
  {
   "cell_type": "code",
   "execution_count": 11,
   "metadata": {},
   "outputs": [
    {
     "name": "stdout",
     "output_type": "stream",
     "text": [
      "a(0) =  1\n",
      "b(0) =  2\n",
      "\n",
      "\n",
      "a(1) = 1.381966011250105\n",
      "b(1) = 1.618033988749895\n",
      "f(a(1)) = 2.660670580070181\n",
      "f(b(1)) = 2.4291536037324555\n",
      "Uncertainty interval: \n",
      "[a(1), b(0)] = [1.381966011250105, 2]\n",
      "\n",
      "\n",
      "a(2) = 1.618033988749895\n",
      "b(2) = 1.7639320225002102\n",
      "f(a(2)) = 2.4291536037324555\n",
      "f(b(2)) = 2.3437072683700113\n",
      "Uncertainty interval: \n",
      "[a(2), b(0)] = [1.618033988749895, 2]\n",
      "\n",
      "\n",
      "a(3) = 1.7639320225002102\n",
      "b(3) = 1.8541019662496847\n",
      "f(a(3)) = 2.3437072683700113\n",
      "f(b(3)) = 2.319569958647457\n",
      "Uncertainty interval: \n",
      "[a(3), b(0)] = [1.7639320225002102, 2]\n",
      "\n",
      "\n",
      "a(4) = 1.8541019662496847\n",
      "b(4) = 1.9098300562505257\n",
      "f(a(4)) = 2.319569958647457\n",
      "f(b(4)) = 2.3171469216226592\n",
      "Uncertainty interval: \n",
      "[a(4), b(0)] = [1.8541019662496847, 2]\n",
      "\n",
      "\n"
     ]
    }
   ],
   "source": [
    "#Ex. 7.2\n",
    "def f(x):\n",
    "    return x**2 + 4*math.cos(x)\n",
    "\n",
    "golden_section_search(f, a0=1, b0=2, epsilon=0.2)"
   ]
  },
  {
   "cell_type": "code",
   "execution_count": 13,
   "metadata": {},
   "outputs": [
    {
     "name": "stdout",
     "output_type": "stream",
     "text": [
      "a(0) =  1\n",
      "b(0) =  2\n",
      "\n",
      "\n",
      "a(1) = 1.381966011250105\n",
      "b(1) = 1.618033988749895\n",
      "f(a(1)) = 7.724695924128396\n",
      "f(b(1)) = 7.680507437209581\n",
      "Uncertainty interval: \n",
      "[a(1), b(0)] = [1.381966011250105, 2]\n",
      "\n",
      "\n",
      "a(2) = 1.618033988749895\n",
      "b(2) = 1.7639320225002102\n",
      "f(a(2)) = 7.680507437209581\n",
      "f(b(2)) = 7.699467246801767\n",
      "Uncertainty interval: \n",
      "[a(1), b(2)] = [1.381966011250105, 1.7639320225002102]\n",
      "\n",
      "\n",
      "a(3) = 1.5278640450004204\n",
      "b(3) = 1.618033988749895\n",
      "f(a(3)) = 7.686003353484316\n",
      "f(b(3)) = 7.680507437209581\n",
      "Uncertainty interval: \n",
      "[a(3), b(2)] = [1.5278640450004204, 1.7639320225002102]\n",
      "\n",
      "\n",
      "a(4) = 1.618033988749895\n",
      "b(4) = 1.673762078750736\n",
      "f(a(4)) = 7.680507437209581\n",
      "f(b(4)) = 7.683813693632115\n",
      "Uncertainty interval: \n",
      "[a(3), b(4)] = [1.5278640450004204, 1.673762078750736]\n",
      "\n",
      "\n"
     ]
    }
   ],
   "source": [
    "#Ex 7.3\n",
    "def f(x):\n",
    "    return 8*math.exp(1-x) + 7*math.log(x)\n",
    "\n",
    "golden_section_search(f, a0=1, b0=2, epsilon=0.23)"
   ]
  },
  {
   "cell_type": "code",
   "execution_count": null,
   "metadata": {},
   "outputs": [],
   "source": []
  }
 ],
 "metadata": {
  "kernelspec": {
   "display_name": "Python 3",
   "language": "python",
   "name": "python3"
  },
  "language_info": {
   "codemirror_mode": {
    "name": "ipython",
    "version": 3
   },
   "file_extension": ".py",
   "mimetype": "text/x-python",
   "name": "python",
   "nbconvert_exporter": "python",
   "pygments_lexer": "ipython3",
   "version": "3.7.7"
  }
 },
 "nbformat": 4,
 "nbformat_minor": 4
}
