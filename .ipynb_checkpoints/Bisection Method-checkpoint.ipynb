{
 "cells": [
  {
   "cell_type": "code",
   "execution_count": 21,
   "metadata": {},
   "outputs": [],
   "source": [
    "import math"
   ]
  },
  {
   "cell_type": "code",
   "execution_count": 34,
   "metadata": {},
   "outputs": [],
   "source": [
    "def bisection(f, df, a, b, tolerance):\n",
    "    \n",
    "    l = a\n",
    "    r = b\n",
    "    \n",
    "    x = [(l+r)/2]\n",
    "    print(\"x({}) = {}\".format(0, x[0]))\n",
    "    \n",
    "    i = 0\n",
    "    while True:\n",
    "        \n",
    "        df_x = df(x[i])\n",
    "        print(\"f'(x({})) = {}\".format(i, df(x[i])))\n",
    "        \n",
    "        if df_x is 0:\n",
    "            print(\"Minimizer, x* = \", x[i])\n",
    "            return\n",
    "        elif df_x > 0:\n",
    "            r = x[i]\n",
    "        else:\n",
    "            l = x[i]\n",
    "                    \n",
    "        print(\"Uncertainty interval: \", end=\"\")\n",
    "        print(\"[{}, {}]\\n\".format(l, r))\n",
    "\n",
    "        if r-l<=tolerance:\n",
    "            return\n",
    "        \n",
    "        i += 1        \n",
    "        x.append((l+r)/2)\n",
    "        print(\"x({}) = {}\".format(i, x[i]))\n",
    "        \n",
    "                                                "
   ]
  },
  {
   "cell_type": "code",
   "execution_count": 35,
   "metadata": {},
   "outputs": [
    {
     "name": "stdout",
     "output_type": "stream",
     "text": [
      "x(0) = 1.5\n",
      "f'(x(0)) = -0.9899799464162178\n",
      "Uncertainty interval: [1.5, 2]\n",
      "\n",
      "x(1) = 1.75\n",
      "f'(x(1)) = -0.4359437874957477\n",
      "Uncertainty interval: [1.75, 2]\n",
      "\n",
      "x(2) = 1.875\n",
      "f'(x(2)) = -0.06634312643877527\n",
      "Uncertainty interval: [1.875, 2]\n",
      "\n"
     ]
    }
   ],
   "source": [
    "def f(x):\n",
    "    return x**2 + 4*math.cos(x)\n",
    "\n",
    "def df(x):\n",
    "    return 2*x - 4*math.sin(x)\n",
    "\n",
    "bisection(f, df, a=1, b=2, tolerance=0.2)"
   ]
  },
  {
   "cell_type": "code",
   "execution_count": 36,
   "metadata": {},
   "outputs": [
    {
     "name": "stdout",
     "output_type": "stream",
     "text": [
      "x(0) = 1.5\n",
      "f'(x(0)) = -0.18557861103440043\n",
      "Uncertainty interval: [1.5, 2]\n",
      "\n",
      "x(1) = 1.75\n",
      "f'(x(1)) = 0.2210675780718825\n",
      "Uncertainty interval: [1.5, 1.75]\n",
      "\n",
      "x(2) = 1.625\n",
      "f'(x(2)) = 0.025600879540385257\n",
      "Uncertainty interval: [1.5, 1.625]\n",
      "\n"
     ]
    }
   ],
   "source": [
    "def f(x):\n",
    "    return 8*math.exp(1-x) + 7*math.log(x)\n",
    "\n",
    "def df(x):\n",
    "    return -8*math.exp(1-x) + 7/x\n",
    "\n",
    "bisection(f, df, a=1, b=2, tolerance=0.23)"
   ]
  },
  {
   "cell_type": "code",
   "execution_count": 37,
   "metadata": {},
   "outputs": [
    {
     "name": "stdout",
     "output_type": "stream",
     "text": [
      "x(0) = 1.0\n",
      "f'(x(0)) = 12.0\n",
      "Uncertainty interval: [0, 1.0]\n",
      "\n",
      "x(1) = 0.5\n",
      "f'(x(1)) = -20.0\n",
      "Uncertainty interval: [0.5, 1.0]\n",
      "\n",
      "x(2) = 0.75\n",
      "f'(x(2)) = -1.9375\n",
      "Uncertainty interval: [0.75, 1.0]\n",
      "\n"
     ]
    }
   ],
   "source": [
    "def f(x):\n",
    "    return pow(x,4) - 14*pow(x,3) + 60*pow(x,2) - 70*x\n",
    "\n",
    "def df(x):\n",
    "    return 4*pow(x,3) - 42*pow(x,2) + 120*x - 70\n",
    "\n",
    "bisection(f, df, a=0, b=2, tolerance=0.3)"
   ]
  },
  {
   "cell_type": "code",
   "execution_count": null,
   "metadata": {},
   "outputs": [],
   "source": []
  }
 ],
 "metadata": {
  "kernelspec": {
   "display_name": "Python 3",
   "language": "python",
   "name": "python3"
  },
  "language_info": {
   "codemirror_mode": {
    "name": "ipython",
    "version": 3
   },
   "file_extension": ".py",
   "mimetype": "text/x-python",
   "name": "python",
   "nbconvert_exporter": "python",
   "pygments_lexer": "ipython3",
   "version": "3.7.7"
  }
 },
 "nbformat": 4,
 "nbformat_minor": 4
}
