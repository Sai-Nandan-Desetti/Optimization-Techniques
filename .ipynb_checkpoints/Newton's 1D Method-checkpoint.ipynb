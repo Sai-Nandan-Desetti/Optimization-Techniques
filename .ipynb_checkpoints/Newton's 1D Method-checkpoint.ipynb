{
 "cells": [
  {
   "cell_type": "code",
   "execution_count": 33,
   "metadata": {},
   "outputs": [],
   "source": [
    "import math\n",
    "\n",
    "x = []\n",
    "df_list = []\n",
    "d2f_list = []"
   ]
  },
  {
   "cell_type": "code",
   "execution_count": 34,
   "metadata": {},
   "outputs": [],
   "source": [
    "def Newton(df, d2f, x0, tolerance):\n",
    "\n",
    "    k = 0\n",
    "    x.append(x0)\n",
    "    while True:\n",
    "        \n",
    "        df_list.append(df(x[k]))\n",
    "        d2f_list.append(d2f(x[k]))\n",
    "        \n",
    "        x.append(x[k] - df_list[k]/d2f_list[k])\n",
    "        k += 1\n",
    "        if abs(x[k]-x[k-1]) < tolerance:\n",
    "            return x[k]\n",
    "                    \n",
    "         "
   ]
  },
  {
   "cell_type": "code",
   "execution_count": 35,
   "metadata": {},
   "outputs": [
    {
     "name": "stdout",
     "output_type": "stream",
     "text": [
      "Index\tx\tdf\td2f\n",
      "0\t0.5\t-0.3776\t1.4794\n",
      "1\t0.7552\t0.0271\t1.6855\n",
      "2\t0.7391\t0.0001\t1.6737\n",
      "3\t0.7391\t0.0\t1.6736\n",
      "\n",
      "Minimizer, x* =  0.7391\n"
     ]
    }
   ],
   "source": [
    "#Eg. 7.4\n",
    "def df(x):\n",
    "    return x - math.cos(x)\n",
    "\n",
    "def d2f(x):\n",
    "    return 1 + math.sin(x)\n",
    "\n",
    "x0 = 0.5\n",
    "\n",
    "minimizer = Newton(df, d2f, x0, tolerance=0.00005)\n",
    "\n",
    "print(\"Index\\tx\\tdf\\td2f\")\n",
    "for i, (x_,df,d2f) in enumerate(zip(x, df_list, d2f_list)):\n",
    "    print(i, end='\\t')\n",
    "    print(round(x_,4), end='\\t')\n",
    "    print(round(df,4), end='\\t')\n",
    "    print(round(d2f,4), end='\\n')\n",
    "\n",
    "print(\"\\nMinimizer, x* = \", round(minimizer, 4))"
   ]
  },
  {
   "cell_type": "code",
   "execution_count": null,
   "metadata": {},
   "outputs": [],
   "source": []
  },
  {
   "cell_type": "code",
   "execution_count": null,
   "metadata": {},
   "outputs": [],
   "source": []
  }
 ],
 "metadata": {
  "kernelspec": {
   "display_name": "Python 3",
   "language": "python",
   "name": "python3"
  },
  "language_info": {
   "codemirror_mode": {
    "name": "ipython",
    "version": 3
   },
   "file_extension": ".py",
   "mimetype": "text/x-python",
   "name": "python",
   "nbconvert_exporter": "python",
   "pygments_lexer": "ipython3",
   "version": "3.7.7"
  }
 },
 "nbformat": 4,
 "nbformat_minor": 4
}
