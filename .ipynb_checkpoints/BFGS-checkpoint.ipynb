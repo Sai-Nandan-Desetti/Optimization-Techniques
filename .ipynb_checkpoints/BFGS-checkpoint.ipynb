{
 "cells": [
  {
   "cell_type": "code",
   "execution_count": 7,
   "metadata": {},
   "outputs": [],
   "source": [
    "import numpy as np\n",
    "\n",
    "np.set_printoptions(precision=4)\n",
    "np.set_printoptions(suppress=True)"
   ]
  },
  {
   "cell_type": "code",
   "execution_count": 8,
   "metadata": {},
   "outputs": [],
   "source": [
    "# The BFGS Algorithm\n",
    "\n",
    "#Defining the necessary lists...\n",
    "x = []\n",
    "x_diff = []\n",
    "\n",
    "g = []\n",
    "g_diff = []\n",
    "\n",
    "d = []\n",
    "alpha = []\n",
    "H = []\n"
   ]
  },
  {
   "cell_type": "code",
   "execution_count": 9,
   "metadata": {},
   "outputs": [],
   "source": [
    "# Computing H[k+1] given H[k]\n",
    "\n",
    "def H_update(k):\n",
    "    \n",
    "    t1 = np.dot(x_diff[k], x_diff[k].T)/np.dot(x_diff[k].T, g_diff[k]).item()\n",
    "    \n",
    "    coeff_t1 = 1 + np.dot(np.dot(g_diff[k].T, H[k]), g_diff[k]).item()/np.dot(g_diff[k].T, x_diff[k]).item()\n",
    "    \n",
    "    t1 *= coeff_t1\n",
    "    \n",
    "    temp = np.dot(np.dot(H[k], g_diff[k]), x_diff[k].T)\n",
    "    t2 = (temp + temp.T)/np.dot(g_diff[k].T, x_diff[k]).item()\n",
    "    \n",
    "    return H[k] + t1-t2"
   ]
  },
  {
   "cell_type": "code",
   "execution_count": 10,
   "metadata": {},
   "outputs": [],
   "source": [
    "def grad(x):\n",
    "    return (np.dot(Q, x) - b)\n",
    "\n",
    "def grad_equals_zero(g):\n",
    "    return not np.any(np.around(g, decimals=4))"
   ]
  },
  {
   "cell_type": "code",
   "execution_count": 13,
   "metadata": {},
   "outputs": [],
   "source": [
    "def BFGS(x_0, H_0):\n",
    "    \n",
    "    x.append(x_0)\n",
    "    H.append(H_0)\n",
    "    \n",
    "    g.append(grad(x[0]))\n",
    "    print(\"g[{0}]:\\n\".format(0), g[0])\n",
    "    \n",
    "    k = 0\n",
    "    while(True):\n",
    "        print(\"\\n\\nIteration \", k+1)        \n",
    "        \n",
    "        if grad_equals_zero(g[k]):    #If none of the elements are true, or, if all of the elements are zero\n",
    "            return x[k] \n",
    "        else:\n",
    "            d.append(-np.dot(H[k], g[k]))\n",
    "            print(\"d[{0}]:\\n\".format(k), d[k])\n",
    "        \n",
    "        # We use the formula for alpha as given by Conjugate direction method,\n",
    "        # since in the quadratic case rank-one algortihm is also a  Conjugate direction algorithm\n",
    "        alpha.append(-np.dot(g[k].T, d[k]).item()/(np.dot(np.dot(d[k].T, Q), d[k]).item()))\n",
    "        print(\"alpha[{0}]:\\n\".format(k), alpha[k])\n",
    "        \n",
    "        x_diff.append(alpha[k]*d[k])\n",
    "        print(\"x_diff[{0}]:\\n\".format(k), x_diff[k])\n",
    "        \n",
    "        x.append(x[k] + x_diff[k])\n",
    "        print(\"x[{0}]:\\n\".format(k+1), x[k+1])\n",
    "        \n",
    "        g.append(grad(x[k+1]))\n",
    "        print(\"g[{0}]:\\n\".format(k+1), g[k+1])\n",
    "        \n",
    "        g_diff.append(g[k+1] - g[k])\n",
    "        print(\"g_diff[{0}]:\\n\".format(k), g_diff[k])\n",
    "                \n",
    "        H.append(H_update(k))\n",
    "        print(\"H[{0}]:\\n\".format(k+1), H[k+1])\n",
    "        \n",
    "        k = k+1\n"
   ]
  },
  {
   "cell_type": "code",
   "execution_count": 14,
   "metadata": {},
   "outputs": [
    {
     "name": "stdout",
     "output_type": "stream",
     "text": [
      "g[0]:\n",
      " [[ 0]\n",
      " [-1]]\n",
      "\n",
      "\n",
      "Iteration  1\n",
      "d[0]:\n",
      " [[-0.]\n",
      " [ 1.]]\n",
      "alpha[0]:\n",
      " 0.5\n",
      "x_diff[0]:\n",
      " [[-0. ]\n",
      " [ 0.5]]\n",
      "x[1]:\n",
      " [[0. ]\n",
      " [0.5]]\n",
      "g[1]:\n",
      " [[-1.5]\n",
      " [ 0. ]]\n",
      "g_diff[0]:\n",
      " [[-1.5]\n",
      " [ 1. ]]\n",
      "H[1]:\n",
      " [[1.   1.5 ]\n",
      " [1.5  2.75]]\n",
      "\n",
      "\n",
      "Iteration  2\n",
      "d[1]:\n",
      " [[1.5 ]\n",
      " [2.25]]\n",
      "alpha[1]:\n",
      " 2.0\n",
      "x_diff[1]:\n",
      " [[3. ]\n",
      " [4.5]]\n",
      "x[2]:\n",
      " [[3.]\n",
      " [5.]]\n",
      "g[2]:\n",
      " [[0.]\n",
      " [0.]]\n",
      "g_diff[1]:\n",
      " [[1.5]\n",
      " [0. ]]\n",
      "H[2]:\n",
      " [[2. 3.]\n",
      " [3. 5.]]\n",
      "\n",
      "\n",
      "Iteration  3\n",
      "\n",
      "The minimizer: x* =\n",
      " [[3.]\n",
      " [5.]]\n"
     ]
    }
   ],
   "source": [
    "# Implement the algorithm...\n",
    "#Example 11.4, Pg.No: 209\n",
    "Q = np.array([[5, -3], [-3, 2]])\n",
    "b = np.array([[0, 1]]).T\n",
    "\n",
    "# initial values...\n",
    "x_0 = np.array([[0, 0]]).T\n",
    "H_0 = np.identity(2)\n",
    "\n",
    "print(\"\\nThe minimizer: x* =\\n\", BFGS(x_0, H_0))"
   ]
  },
  {
   "cell_type": "code",
   "execution_count": null,
   "metadata": {},
   "outputs": [],
   "source": []
  }
 ],
 "metadata": {
  "kernelspec": {
   "display_name": "Python 3",
   "language": "python",
   "name": "python3"
  },
  "language_info": {
   "codemirror_mode": {
    "name": "ipython",
    "version": 3
   },
   "file_extension": ".py",
   "mimetype": "text/x-python",
   "name": "python",
   "nbconvert_exporter": "python",
   "pygments_lexer": "ipython3",
   "version": "3.7.7"
  }
 },
 "nbformat": 4,
 "nbformat_minor": 4
}
