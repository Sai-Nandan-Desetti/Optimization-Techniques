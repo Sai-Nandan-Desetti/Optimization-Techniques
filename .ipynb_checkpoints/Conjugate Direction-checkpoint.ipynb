{
 "cells": [
  {
   "cell_type": "code",
   "execution_count": 14,
   "metadata": {},
   "outputs": [],
   "source": [
    "import numpy as np\n",
    "\n",
    "np.set_printoptions(precision=4)\n",
    "np.set_printoptions(suppress=True)"
   ]
  },
  {
   "cell_type": "code",
   "execution_count": 15,
   "metadata": {},
   "outputs": [],
   "source": [
    "def grad(x):\n",
    "    return np.dot(Q, x) - b\n",
    "\n",
    "def grad_equals_zero(g):\n",
    "    return not np.any(np.around(g, decimals=4))"
   ]
  },
  {
   "cell_type": "code",
   "execution_count": 16,
   "metadata": {},
   "outputs": [],
   "source": [
    "def conjugate_direction(f, d, x0):\n",
    "    \n",
    "    (Q, b) = f\n",
    "    \n",
    "    x = [x0]\n",
    "    print(\"x[{0}]: \\n\".format(0), x[0])\n",
    "    \n",
    "    g = [grad(x[0])]\n",
    "    print(\"g[{0}]: \\n\".format(0), g[0])\n",
    "    \n",
    "    alpha = []\n",
    "    \n",
    "    k = 0\n",
    "    while not grad_equals_zero(g[k]):\n",
    "        print(\"\\n\\nIteration \", k+1)\n",
    "        \n",
    "        alpha.append(-np.dot(g[k].T, d[k]).item()/np.dot(np.dot(d[k].T, Q), d[k]).item())\n",
    "        print(\"alpha[{0}]: \".format(k), alpha[k])\n",
    "        \n",
    "        x.append(x[k] + alpha[k]*d[k])\n",
    "        print(\"x[{0}]: \\n\".format(k+1), x[k+1])\n",
    "        \n",
    "        g.append(grad(x[k+1]))\n",
    "        print(\"g[{0}]: \\n\".format(k+1), g[k+1])\n",
    "        \n",
    "        k += 1\n",
    "    \n",
    "    print(\"\\n\")\n",
    "    \n",
    "    return x[k]\n",
    "    "
   ]
  },
  {
   "cell_type": "code",
   "execution_count": 17,
   "metadata": {},
   "outputs": [
    {
     "name": "stdout",
     "output_type": "stream",
     "text": [
      "x[0]: \n",
      " [[0]\n",
      " [0]]\n",
      "g[0]: \n",
      " [[ 1]\n",
      " [-1]]\n",
      "\n",
      "\n",
      "Iteration  1\n",
      "alpha[0]:  -0.25\n",
      "x[1]: \n",
      " [[-0.25]\n",
      " [ 0.  ]]\n",
      "g[1]: \n",
      " [[ 0. ]\n",
      " [-1.5]]\n",
      "\n",
      "\n",
      "Iteration  2\n",
      "alpha[1]:  2.0\n",
      "x[2]: \n",
      " [[-1. ]\n",
      " [ 1.5]]\n",
      "g[2]: \n",
      " [[0.]\n",
      " [0.]]\n",
      "\n",
      "\n",
      "Minimizer, x* =\n",
      " [[-1. ]\n",
      " [ 1.5]]\n"
     ]
    }
   ],
   "source": [
    "#Eg. 10.2\n",
    "\n",
    "#The quadratic function\n",
    "Q = np.array([[4, 2], [2, 2]])\n",
    "b = np.array([[-1, 1]]).T\n",
    "f = (Q, b)\n",
    "\n",
    "#The conjugate directions\n",
    "d0 = np.array([[1, 0]]).T\n",
    "d1 = np.array([[-3/8, 3/4]]).T\n",
    "d = [d0, d1]\n",
    "\n",
    "#The initial point\n",
    "x0 = np.array([[0, 0]]).T\n",
    "\n",
    "print(\"Minimizer, x* =\\n\", conjugate_direction(f, d, x0))"
   ]
  },
  {
   "cell_type": "code",
   "execution_count": 18,
   "metadata": {},
   "outputs": [
    {
     "name": "stdout",
     "output_type": "stream",
     "text": [
      "x[0]: \n",
      " [[0]\n",
      " [0]\n",
      " [0]]\n",
      "g[0]: \n",
      " [[-3]\n",
      " [ 0]\n",
      " [-1]]\n",
      "\n",
      "\n",
      "Iteration  1\n",
      "alpha[0]:  0.2777777777777778\n",
      "x[1]: \n",
      " [[0.8333]\n",
      " [0.    ]\n",
      " [0.2778]]\n",
      "g[1]: \n",
      " [[-0.2222]\n",
      " [ 0.5556]\n",
      " [ 0.6667]]\n",
      "\n",
      "\n",
      "Iteration  2\n",
      "alpha[1]:  0.21868111180882938\n",
      "x[2]: \n",
      " [[ 0.9346]\n",
      " [-0.1215]\n",
      " [ 0.1495]]\n",
      "g[2]: \n",
      " [[-0.0467]\n",
      " [-0.1869]\n",
      " [ 0.1402]]\n",
      "\n",
      "\n",
      "Iteration  3\n",
      "alpha[2]:  0.8230812283392239\n",
      "x[3]: \n",
      " [[ 1.]\n",
      " [-0.]\n",
      " [-0.]]\n",
      "g[3]: \n",
      " [[ 0.    ]\n",
      " [-0.0001]\n",
      " [-0.    ]]\n",
      "\n",
      "\n",
      "Iteration  4\n"
     ]
    },
    {
     "ename": "IndexError",
     "evalue": "list index out of range",
     "output_type": "error",
     "traceback": [
      "\u001b[1;31m---------------------------------------------------------------------------\u001b[0m",
      "\u001b[1;31mIndexError\u001b[0m                                Traceback (most recent call last)",
      "\u001b[1;32m<ipython-input-18-11f3b44e4a52>\u001b[0m in \u001b[0;36m<module>\u001b[1;34m\u001b[0m\n\u001b[0;32m     11\u001b[0m \u001b[0mx0\u001b[0m \u001b[1;33m=\u001b[0m \u001b[0mnp\u001b[0m\u001b[1;33m.\u001b[0m\u001b[0marray\u001b[0m\u001b[1;33m(\u001b[0m\u001b[1;33m[\u001b[0m\u001b[1;33m[\u001b[0m\u001b[1;36m0\u001b[0m\u001b[1;33m,\u001b[0m \u001b[1;36m0\u001b[0m\u001b[1;33m,\u001b[0m \u001b[1;36m0\u001b[0m\u001b[1;33m]\u001b[0m\u001b[1;33m]\u001b[0m\u001b[1;33m)\u001b[0m\u001b[1;33m.\u001b[0m\u001b[0mT\u001b[0m\u001b[1;33m\u001b[0m\u001b[1;33m\u001b[0m\u001b[0m\n\u001b[0;32m     12\u001b[0m \u001b[1;33m\u001b[0m\u001b[0m\n\u001b[1;32m---> 13\u001b[1;33m \u001b[0mprint\u001b[0m\u001b[1;33m(\u001b[0m\u001b[1;34m\"\\nMinimizer, x* = \\n\"\u001b[0m\u001b[1;33m,\u001b[0m \u001b[0mconjugate_direction\u001b[0m\u001b[1;33m(\u001b[0m\u001b[0mf\u001b[0m\u001b[1;33m,\u001b[0m \u001b[0md\u001b[0m\u001b[1;33m,\u001b[0m \u001b[0mx0\u001b[0m\u001b[1;33m)\u001b[0m\u001b[1;33m)\u001b[0m\u001b[1;33m\u001b[0m\u001b[1;33m\u001b[0m\u001b[0m\n\u001b[0m",
      "\u001b[1;32m<ipython-input-16-0bc212678f83>\u001b[0m in \u001b[0;36mconjugate_direction\u001b[1;34m(f, d, x0)\u001b[0m\n\u001b[0;32m     15\u001b[0m         \u001b[0mprint\u001b[0m\u001b[1;33m(\u001b[0m\u001b[1;34m\"\\n\\nIteration \"\u001b[0m\u001b[1;33m,\u001b[0m \u001b[0mk\u001b[0m\u001b[1;33m+\u001b[0m\u001b[1;36m1\u001b[0m\u001b[1;33m)\u001b[0m\u001b[1;33m\u001b[0m\u001b[1;33m\u001b[0m\u001b[0m\n\u001b[0;32m     16\u001b[0m \u001b[1;33m\u001b[0m\u001b[0m\n\u001b[1;32m---> 17\u001b[1;33m         \u001b[0malpha\u001b[0m\u001b[1;33m.\u001b[0m\u001b[0mappend\u001b[0m\u001b[1;33m(\u001b[0m\u001b[1;33m-\u001b[0m\u001b[0mnp\u001b[0m\u001b[1;33m.\u001b[0m\u001b[0mdot\u001b[0m\u001b[1;33m(\u001b[0m\u001b[0mg\u001b[0m\u001b[1;33m[\u001b[0m\u001b[0mk\u001b[0m\u001b[1;33m]\u001b[0m\u001b[1;33m.\u001b[0m\u001b[0mT\u001b[0m\u001b[1;33m,\u001b[0m \u001b[0md\u001b[0m\u001b[1;33m[\u001b[0m\u001b[0mk\u001b[0m\u001b[1;33m]\u001b[0m\u001b[1;33m)\u001b[0m\u001b[1;33m.\u001b[0m\u001b[0mitem\u001b[0m\u001b[1;33m(\u001b[0m\u001b[1;33m)\u001b[0m\u001b[1;33m/\u001b[0m\u001b[0mnp\u001b[0m\u001b[1;33m.\u001b[0m\u001b[0mdot\u001b[0m\u001b[1;33m(\u001b[0m\u001b[0mnp\u001b[0m\u001b[1;33m.\u001b[0m\u001b[0mdot\u001b[0m\u001b[1;33m(\u001b[0m\u001b[0md\u001b[0m\u001b[1;33m[\u001b[0m\u001b[0mk\u001b[0m\u001b[1;33m]\u001b[0m\u001b[1;33m.\u001b[0m\u001b[0mT\u001b[0m\u001b[1;33m,\u001b[0m \u001b[0mQ\u001b[0m\u001b[1;33m)\u001b[0m\u001b[1;33m,\u001b[0m \u001b[0md\u001b[0m\u001b[1;33m[\u001b[0m\u001b[0mk\u001b[0m\u001b[1;33m]\u001b[0m\u001b[1;33m)\u001b[0m\u001b[1;33m.\u001b[0m\u001b[0mitem\u001b[0m\u001b[1;33m(\u001b[0m\u001b[1;33m)\u001b[0m\u001b[1;33m)\u001b[0m\u001b[1;33m\u001b[0m\u001b[1;33m\u001b[0m\u001b[0m\n\u001b[0m\u001b[0;32m     18\u001b[0m         \u001b[0mprint\u001b[0m\u001b[1;33m(\u001b[0m\u001b[1;34m\"alpha[{0}]: \"\u001b[0m\u001b[1;33m.\u001b[0m\u001b[0mformat\u001b[0m\u001b[1;33m(\u001b[0m\u001b[0mk\u001b[0m\u001b[1;33m)\u001b[0m\u001b[1;33m,\u001b[0m \u001b[0malpha\u001b[0m\u001b[1;33m[\u001b[0m\u001b[0mk\u001b[0m\u001b[1;33m]\u001b[0m\u001b[1;33m)\u001b[0m\u001b[1;33m\u001b[0m\u001b[1;33m\u001b[0m\u001b[0m\n\u001b[0;32m     19\u001b[0m \u001b[1;33m\u001b[0m\u001b[0m\n",
      "\u001b[1;31mIndexError\u001b[0m: list index out of range"
     ]
    }
   ],
   "source": [
    "#Eg. 10.3\n",
    "Q = np.array([[3, 0, 1], [0, 4, 2], [1, 2, 3]])\n",
    "b = np.array([[3, 0, 1]]).T\n",
    "f = (Q, b)\n",
    "\n",
    "d0 = np.array([[3, 0, 1]]).T\n",
    "d1 = np.array([[0.463, -0.5556, -0.5864]]).T\n",
    "d2 = np.array([[0.0795, 0.1476, -0.1817]]).T\n",
    "d = [d0, d1, d2]\n",
    "\n",
    "x0 = np.array([[0, 0, 0]]).T\n",
    "\n",
    "print(\"\\nMinimizer, x* = \\n\", conjugate_direction(f, d, x0))\n",
    "\n",
    "#Error comes for this one because if you see in the third iteration g[k] is almost zero\n",
    "#(In the conjugate_gradient algorithm it does go to zero).\n",
    "#Note that this happens because I've rounded up the conjugate directions\n",
    "#(which were actually obtained using the conjugate_gradient algorithm)\n",
    "\n",
    "#Thus, since we are dealing with rounded-off directions we don't get the desired answer.\n",
    "\n",
    "#BEWARE!! Of such numerical issues..."
   ]
  },
  {
   "cell_type": "code",
   "execution_count": null,
   "metadata": {},
   "outputs": [],
   "source": []
  }
 ],
 "metadata": {
  "kernelspec": {
   "display_name": "Python 3",
   "language": "python",
   "name": "python3"
  },
  "language_info": {
   "codemirror_mode": {
    "name": "ipython",
    "version": 3
   },
   "file_extension": ".py",
   "mimetype": "text/x-python",
   "name": "python",
   "nbconvert_exporter": "python",
   "pygments_lexer": "ipython3",
   "version": "3.7.7"
  }
 },
 "nbformat": 4,
 "nbformat_minor": 4
}
